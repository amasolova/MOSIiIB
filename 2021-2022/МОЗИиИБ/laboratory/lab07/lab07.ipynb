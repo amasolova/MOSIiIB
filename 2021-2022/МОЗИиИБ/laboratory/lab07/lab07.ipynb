{
 "cells": [
  {
   "cell_type": "code",
   "execution_count": 1,
   "metadata": {},
   "outputs": [
    {
     "name": "stdout",
     "output_type": "stream",
     "text": [
      "10 ** 20 ≡ 64 (mod 107)\n",
      "Verify result: verified\n"
     ]
    }
   ],
   "source": [
    "def ext_euclid(a, b):\n",
    "    if b == 0:\n",
    "        return a, 1, 0\n",
    "    else:\n",
    "        d, xx, yy = ext_euclid(b, a % b)\n",
    "        x = yy\n",
    "        y = xx - (a // b) * yy\n",
    "        return d, x, y\n",
    "\n",
    "\n",
    "def inverse(a, n):\n",
    "    return ext_euclid(a, n)[1]\n",
    "\n",
    "\n",
    "def xab(x, a, b, value):\n",
    "    (G, H, P, Q) = value\n",
    "    sub = x % 3\n",
    "\n",
    "    if sub == 0:\n",
    "        x = x * value[0] % value[2]\n",
    "        a = (a + 1) % Q\n",
    "\n",
    "    if sub == 1:\n",
    "        x = x * value[1] % value[2]\n",
    "        b = (b + 1) % value[2]\n",
    "\n",
    "    if sub == 2:\n",
    "        x = x * x % value[2]\n",
    "        a = a * 2 % value[3]\n",
    "        b = b * 2 % value[3]\n",
    "\n",
    "    return x, a, b\n",
    "\n",
    "\n",
    "def verify(g, h, p, x):\n",
    "    return pow(g, x, p) == h\n",
    "\n",
    "\n",
    "def pollard(G, H, P):\n",
    "    Q = int((P - 1) // 2)\n",
    "\n",
    "    x = G * H\n",
    "    a = 1\n",
    "    b = 1\n",
    "\n",
    "    X = x\n",
    "    A = a\n",
    "    B = b\n",
    "\n",
    "    for i in range(1, P):\n",
    "        x, a, b = xab(x, a, b, (G, H, P, Q))\n",
    "\n",
    "        X, A, B = xab(X, A, B, (G, H, P, Q))\n",
    "        X, A, B = xab(X, A, B, (G, H, P, Q))\n",
    "\n",
    "        if x == X:\n",
    "            break\n",
    "\n",
    "    nom = a - A\n",
    "    denom = B - b\n",
    "\n",
    "    res = (inverse(denom, Q) * nom) % Q\n",
    "\n",
    "    if verify(G, H, P, res):\n",
    "        return res\n",
    "\n",
    "    return res + Q\n",
    "\n",
    "\n",
    "args = [(10, 64, 107)]\n",
    "for arg in args:\n",
    "    res = pollard(*arg)\n",
    "    print(\"{} ** {} ≡ {} (mod {})\".format(arg[0], res, arg[1], arg[2]))\n",
    "    print(\"Verify result: \", end=\"\")\n",
    "    if verify(arg[0], arg[1], arg[2], res):\n",
    "        print(\"verified\")\n",
    "    else:\n",
    "        print(\"not verified\")\n"
   ]
  },
  {
   "cell_type": "code",
   "execution_count": null,
   "metadata": {},
   "outputs": [],
   "source": []
  }
 ],
 "metadata": {
  "kernelspec": {
   "display_name": "Python 3",
   "language": "python",
   "name": "python3"
  },
  "language_info": {
   "codemirror_mode": {
    "name": "ipython",
    "version": 3
   },
   "file_extension": ".py",
   "mimetype": "text/x-python",
   "name": "python",
   "nbconvert_exporter": "python",
   "pygments_lexer": "ipython3",
   "version": "3.8.3"
  }
 },
 "nbformat": 4,
 "nbformat_minor": 4
}
