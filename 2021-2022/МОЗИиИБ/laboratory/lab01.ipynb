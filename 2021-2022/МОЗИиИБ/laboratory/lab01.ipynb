{
 "cells": [
  {
   "cell_type": "code",
   "execution_count": 1,
   "metadata": {},
   "outputs": [],
   "source": [
    "FIRST_SYMBOL_ASCII = 97\n",
    "LAST_SYMBOL_ASCII = 122\n",
    "alphabet = 26\n",
    "IGNORE_SYMBOLS = \" 1234567890.,?!-=:;*+[]{}<>^\""
   ]
  },
  {
   "cell_type": "code",
   "execution_count": 3,
   "metadata": {},
   "outputs": [
    {
     "name": "stdout",
     "output_type": "stream",
     "text": [
      "\n",
      "Введите:\n",
      "1 - для работы с шифром Цезаря\n",
      "2 - для работы с шифром Атбаш\n",
      "0 - для выхода из программы\n",
      "1\n",
      "Введите сообщение: 12-banana?\n",
      "Задайте сдвиг от 1 до 25: 9\n",
      "\n",
      "Шифр Цезаря\n",
      "Зашифрованное сообщение:\n",
      "12-kjwjwj?\n",
      "\n",
      "Введите:\n",
      "1 - для работы с шифром Цезаря\n",
      "2 - для работы с шифром Атбаш\n",
      "0 - для выхода из программы\n",
      "2\n",
      "Введите сообщение: banana;-+\n",
      "\n",
      "Шифр Атбаш\n",
      "Зашифрованное сообщение:\n",
      "yzmzmz;-+\n",
      "\n",
      "Введите:\n",
      "1 - для работы с шифром Цезаря\n",
      "2 - для работы с шифром Атбаш\n",
      "0 - для выхода из программы\n",
      "0\n"
     ]
    }
   ],
   "source": [
    "def caesar(message, shift):\n",
    "    new_message = \"\"\n",
    "    for symbol in message:\n",
    "        if symbol in IGNORE_SYMBOLS:\n",
    "            new_message += symbol\n",
    "            continue\n",
    "        new_symbol = chr(FIRST_SYMBOL_ASCII + ((ord(symbol) - FIRST_SYMBOL_ASCII + shift) % alphabet))\n",
    "        new_message += new_symbol\n",
    "    return new_message\n",
    "\n",
    "def atbash(message):\n",
    "    new_message = \"\"\n",
    "    for symbol in message:\n",
    "        if symbol in IGNORE_SYMBOLS:\n",
    "            new_message += symbol\n",
    "            continue\n",
    "        new_symbol = chr(FIRST_SYMBOL_ASCII + LAST_SYMBOL_ASCII - ord(symbol))\n",
    "        new_message += new_symbol\n",
    "    return new_message\n",
    "\n",
    "while(True):\n",
    "    code = int(input(\"\\nВведите:\\n1 - для работы с шифром Цезаря\\n2 - для работы с шифром Атбаш\\n0 - для выхода из программы\\n\"))\n",
    "    if (code == 1):\n",
    "        message = input(\"Введите сообщение: \")\n",
    "        shift = int(input(\"Задайте сдвиг от 1 до 25: \"))\n",
    "        result = caesar(message, shift)\n",
    "        print(\"\\nШифр Цезаря\\nЗашифрованное сообщение:\\n{}\".format(result))\n",
    "    elif (code == 2):\n",
    "        message = input(\"Введите сообщение: \")\n",
    "        result = atbash(message)\n",
    "        print(\"\\nШифр Атбаш\\nЗашифрованное сообщение:\\n{}\".format(result))\n",
    "    elif (code == 0):\n",
    "        break\n",
    "    else:\n",
    "        print(\"Ошибка ввода\")\n",
    "    \n",
    "    "
   ]
  },
  {
   "cell_type": "code",
   "execution_count": null,
   "metadata": {},
   "outputs": [],
   "source": []
  }
 ],
 "metadata": {
  "kernelspec": {
   "display_name": "Python 3",
   "language": "python",
   "name": "python3"
  },
  "language_info": {
   "codemirror_mode": {
    "name": "ipython",
    "version": 3
   },
   "file_extension": ".py",
   "mimetype": "text/x-python",
   "name": "python",
   "nbconvert_exporter": "python",
   "pygments_lexer": "ipython3",
   "version": "3.8.3"
  }
 },
 "nbformat": 4,
 "nbformat_minor": 4
}
