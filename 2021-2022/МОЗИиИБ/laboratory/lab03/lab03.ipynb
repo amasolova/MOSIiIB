{
 "cells": [
  {
   "cell_type": "code",
   "execution_count": 3,
   "metadata": {},
   "outputs": [
    {
     "name": "stdout",
     "output_type": "stream",
     "text": [
      "Введите сообщение: информационная безопасность\n",
      "Введите ключ (гамма): криптография\n",
      "\n",
      "Преобразование КРИПТОГРАФИЯ -> КРИПТОГРАФИЯКРИПТОГРАФИЯКРИ\n",
      "\n",
      "Ваше сообщение:\n",
      "ИНФОРМАЦИОННАЯ БЕЗОПАСНОСТЬ ([10, 15, 22, 16, 18, 14, 1, 24, 10, 16, 15, 15, 1, 33, 10022, 2, 6, 9, 16, 17, 1, 19, 15, 16, 19, 20, 30])\n",
      "\n",
      "Ваша гамма:\n",
      "КРИПТОГРАФИЯ ([12, 18, 10, 17, 20, 16, 4, 18, 1, 22, 10, 33, 12, 18, 10, 17, 20, 16, 4, 18, 1, 22, 10, 33, 12, 18, 10])\n",
      "\n",
      "Зашифрованное сообщение:\n",
      "ФЯЮЯДЬДЗЙДЧНЛР СШЧТББЖЧОЭДЁ ([22, 0, 32, 0, 5, 30, 5, 9, 11, 5, 25, 15, 13, 18, 10022, 19, 26, 25, 20, 2, 2, 8, 25, 16, 31, 5, 7])\n"
     ]
    }
   ],
   "source": [
    "alphabet = \"абвгдеёжзийклмнопрстуфхцчшщъыьэюя\"\n",
    "ignore_symbols = '!.,@#$%^&*()-+={}[]<>/ '\n",
    "\n",
    "def format_gamma(gamma, message_length):\n",
    "    new_gamma = \"\"\n",
    "    for i in range(message_length):\n",
    "        new_gamma += gamma[i % len(gamma)]\n",
    "    return new_gamma\n",
    "\n",
    "def get_indexes(text):\n",
    "    indexes = []\n",
    "    for letter in text:\n",
    "        try:\n",
    "            indexes.append(alphabet.index(letter) + 1)\n",
    "        except ValueError:\n",
    "            indexes.append(ignore_symbols.index(letter) + 10000)\n",
    "    return indexes\n",
    "\n",
    "def encrypt(message_indexes, gamma_indexes):\n",
    "    indexes = []\n",
    "    for ix, item in enumerate(message_indexes):\n",
    "        if message_indexes[ix] > 10000 or gamma_indexes[ix] > 10000:\n",
    "            result = item\n",
    "            indexes.append(result)\n",
    "            continue\n",
    "        result = (message_indexes[ix] + gamma_indexes[ix]) % len(alphabet)\n",
    "        indexes.append(result)\n",
    "    return indexes\n",
    "            \n",
    "def to_text(indexes):\n",
    "    text = \"\"\n",
    "    for index in indexes:\n",
    "        if index > 10000:\n",
    "            text += ignore_symbols[index - 10000]\n",
    "            continue\n",
    "        text += alphabet[index - 1]\n",
    "    return text\n",
    "\n",
    "message = input(\"Введите сообщение: \")\n",
    "gamma = input(\"Введите ключ (гамма): \")\n",
    "new_gamma = format_gamma(gamma, len(message))\n",
    "print(\"\\nПреобразование {} -> {}\".format(gamma.upper(), new_gamma.upper()))\n",
    "message_indexes = get_indexes(message)\n",
    "print(\"\\nВаше сообщение:\\n{} ({})\".format(message.upper(), message_indexes))\n",
    "gamma_indexes = get_indexes(new_gamma)\n",
    "print(\"\\nВаша гамма:\\n{} ({})\".format(gamma.upper(), gamma_indexes))\n",
    "encrypted_message_indexes = encrypt(message_indexes, gamma_indexes)\n",
    "encrypted_message = to_text(encrypted_message_indexes)\n",
    "print(\"\\nЗашифрованное сообщение:\\n{} ({})\".format(encrypted_message.upper(), encrypted_message_indexes))"
   ]
  },
  {
   "cell_type": "code",
   "execution_count": null,
   "metadata": {},
   "outputs": [],
   "source": []
  }
 ],
 "metadata": {
  "kernelspec": {
   "display_name": "Python 3",
   "language": "python",
   "name": "python3"
  },
  "language_info": {
   "codemirror_mode": {
    "name": "ipython",
    "version": 3
   },
   "file_extension": ".py",
   "mimetype": "text/x-python",
   "name": "python",
   "nbconvert_exporter": "python",
   "pygments_lexer": "ipython3",
   "version": "3.8.3"
  }
 },
 "nbformat": 4,
 "nbformat_minor": 4
}
