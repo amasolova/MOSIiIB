{
 "cells": [
  {
   "cell_type": "code",
   "execution_count": 1,
   "metadata": {},
   "outputs": [
    {
     "name": "stdout",
     "output_type": "stream",
     "text": [
      "Введите число n: 1359331\n",
      "Введите число c: 1\n",
      "Нетривиальный делитель числа n = 1181\n"
     ]
    }
   ],
   "source": [
    "def euclid(a, b):\n",
    "    r = []\n",
    "    r.append(a)\n",
    "    r.append(b)\n",
    "    i = 1\n",
    "    while True:\n",
    "        r.append(r[i - 1] % r[i])\n",
    "        if r[i + 1] == 0:\n",
    "            d = r[i]\n",
    "            return d\n",
    "        else:\n",
    "            i = i + 1\n",
    "            \n",
    "\n",
    "def pollard(n, c):\n",
    "    a = c\n",
    "    b = c\n",
    "    while True:\n",
    "        a = f(a, n) % n\n",
    "        b = f(f(b, n), n) % n\n",
    "        first = min(a - b, n)\n",
    "        second = max(a - b, n)\n",
    "        d = euclid(first, second)\n",
    "        if d > 1 and d < n:\n",
    "            p = d\n",
    "            return p\n",
    "        elif d == n:\n",
    "            return -1\n",
    "        elif d == 1:\n",
    "            continue\n",
    "    \n",
    "    \n",
    "def f(x, n):\n",
    "    return (x ** 2) + 5 % n\n",
    "\n",
    "\n",
    "n = int(input(\"Введите число n: \"))\n",
    "c = int(input(\"Введите число c: \"))\n",
    "result = pollard(n, c)\n",
    "print(\"Нетривиальный делитель числа n = {}\".format(result))"
   ]
  },
  {
   "cell_type": "code",
   "execution_count": null,
   "metadata": {},
   "outputs": [],
   "source": []
  }
 ],
 "metadata": {
  "kernelspec": {
   "display_name": "Python 3",
   "language": "python",
   "name": "python3"
  },
  "language_info": {
   "codemirror_mode": {
    "name": "ipython",
    "version": 3
   },
   "file_extension": ".py",
   "mimetype": "text/x-python",
   "name": "python",
   "nbconvert_exporter": "python",
   "pygments_lexer": "ipython3",
   "version": "3.8.3"
  }
 },
 "nbformat": 4,
 "nbformat_minor": 4
}
